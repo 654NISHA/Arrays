{
 "cells": [
  {
   "cell_type": "markdown",
   "id": "6324f4b7-6a1c-4adb-ba1f-2997a083adbb",
   "metadata": {},
   "source": [
    "### Arrays :\n",
    "---"
   ]
  },
  {
   "cell_type": "markdown",
   "id": "36847276-b9db-4b67-a574-8d4ef591fe9b",
   "metadata": {},
   "source": [
    "### 1. Given an array, check if it contains any duplicates or not. "
   ]
  },
  {
   "cell_type": "code",
   "execution_count": 7,
   "id": "b7e1f8a1-bcf4-454f-ba82-b37afc1a19ca",
   "metadata": {},
   "outputs": [],
   "source": [
    "# Time complexity : O(n^2)\n",
    "# Space complexity : O(1)\n",
    "\n",
    "# Enter array\n",
    "arr = [1, 2, 4, 2, 5, 9] \n",
    "\n",
    "# Function to find duplicates\n",
    "def duplicates(arr):\n",
    "    for i in range(len(arr)):\n",
    "        for j in range(i+1,len(arr)):\n",
    "            # check the condition of equal elements\n",
    "            if arr[i] == arr[j]:\n",
    "                return True\n",
    "    return False\n"
   ]
  },
  {
   "cell_type": "code",
   "execution_count": 8,
   "id": "54475d21-98d0-4367-8058-a882945589f0",
   "metadata": {},
   "outputs": [
    {
     "data": {
      "text/plain": [
       "True"
      ]
     },
     "execution_count": 8,
     "metadata": {},
     "output_type": "execute_result"
    }
   ],
   "source": [
    "duplicates(arr)"
   ]
  },
  {
   "cell_type": "markdown",
   "id": "cb1c7897-3274-444e-b33d-8694303f1be4",
   "metadata": {},
   "source": [
    "### 2. Given an array and an integer k, rotate the array to the right by k steps. "
   ]
  },
  {
   "cell_type": "code",
   "execution_count": 12,
   "id": "53ac7d50-97c5-4ed8-b0a4-39d85a64268e",
   "metadata": {},
   "outputs": [
    {
     "name": "stdout",
     "output_type": "stream",
     "text": [
      "Rotated the array to the right by 3 steps: [5, 6, 7, 1, 2, 3, 4]\n"
     ]
    }
   ],
   "source": [
    "# Time complexity : O(1)\n",
    "# Space complexity : O(1)\n",
    "\n",
    "# Given array\n",
    "arr = [1, 2, 3, 4, 5, 6, 7]\n",
    "\n",
    "# Given the value of k\n",
    "k = 3 \n",
    "\n",
    "# print the rotated array by k steps right\n",
    "print(f\"Rotated the array to the right by {k} steps: {arr[(k+1):] + arr[:(k+1)]}\" )"
   ]
  },
  {
   "cell_type": "markdown",
   "id": "cd12a2bf-a334-49de-ac94-cbb67ea59afd",
   "metadata": {},
   "source": [
    "### 3. Reverse the given array in-place, means without using any extra data structure. "
   ]
  },
  {
   "cell_type": "code",
   "execution_count": 18,
   "id": "cda6f943-1d06-4594-b84d-c1dc38b8896a",
   "metadata": {},
   "outputs": [
    {
     "name": "stdout",
     "output_type": "stream",
     "text": [
      "Reversed array: [12, 9, 7, 5, 4, 2]\n"
     ]
    }
   ],
   "source": [
    "# Time complexity : O(n)\n",
    "# Space complexity : O(1)\n",
    "\n",
    "# Given array\n",
    "arr = [2, 4, 5, 7, 9, 12] \n",
    "\n",
    "# Reverse the given array\n",
    "j=len(arr)-1\n",
    "for i in range(len(arr)):\n",
    "    if i<j:\n",
    "        # change the place\n",
    "        arr[i],arr[j] = arr[j], arr[i]\n",
    "        j-=1\n",
    "\n",
    "# Print the reversed array\n",
    "print(\"Reversed array:\",arr)"
   ]
  },
  {
   "cell_type": "markdown",
   "id": "fa56081f-eb0b-4d53-9eb0-6f56cb3d0e32",
   "metadata": {},
   "source": [
    "### 4. Given an array of integers, find the maximum element in an array "
   ]
  },
  {
   "cell_type": "code",
   "execution_count": 19,
   "id": "268dac0b-198f-4190-b95c-516894290ada",
   "metadata": {},
   "outputs": [
    {
     "name": "stdout",
     "output_type": "stream",
     "text": [
      "Maximum element: 20\n"
     ]
    }
   ],
   "source": [
    "# Time complexity : O(n)\n",
    "# Space complexity : O(1)\n",
    "\n",
    "# Given array\n",
    "arr = [10, 5, 20, 8, 15]\n",
    "\n",
    "# find maximum element\n",
    "ans = arr[0]\n",
    "for i in range(1,len(arr)):\n",
    "    if ans < arr[i]:\n",
    "        ans = arr[i]\n",
    "\n",
    "# Print maximum element\n",
    "print(\"Maximum element:\",ans)"
   ]
  },
  {
   "cell_type": "markdown",
   "id": "14542c44-8346-478b-a6da-25bf027dbf47",
   "metadata": {},
   "source": [
    "### 5. Given a sorted array, remove the duplicate element without using any extra data structure. "
   ]
  },
  {
   "cell_type": "code",
   "execution_count": 6,
   "id": "4d29a029-efe1-4ecc-9da3-395c2fb668aa",
   "metadata": {},
   "outputs": [
    {
     "name": "stdout",
     "output_type": "stream",
     "text": [
      "After removing duplicates: [1, 2, 3, 4, 5]\n"
     ]
    }
   ],
   "source": [
    "# Time complexity : O(n)\n",
    "# Space complexity : O(1)\n",
    "\n",
    "# Given array\n",
    "arr = [1, 1, 2, 2, 2, 3, 3, 4, 4, 4, 5, 5] \n",
    "\n",
    "# Remove the duplicate elements\n",
    "i = 0\n",
    "for j in range(1,len(arr)):\n",
    "    if arr[i] != arr[j]:\n",
    "        i+=1\n",
    "        arr[i] = arr[j]\n",
    "\n",
    "# print the array after removing duplicates\n",
    "print(\"After removing duplicates:\", arr[:(i+1)])"
   ]
  },
  {
   "cell_type": "code",
   "execution_count": null,
   "id": "fa73ebea-8595-4bf6-9d35-aa817611d7c7",
   "metadata": {},
   "outputs": [],
   "source": []
  }
 ],
 "metadata": {
  "kernelspec": {
   "display_name": "Python 3 (ipykernel)",
   "language": "python",
   "name": "python3"
  },
  "language_info": {
   "codemirror_mode": {
    "name": "ipython",
    "version": 3
   },
   "file_extension": ".py",
   "mimetype": "text/x-python",
   "name": "python",
   "nbconvert_exporter": "python",
   "pygments_lexer": "ipython3",
   "version": "3.10.8"
  }
 },
 "nbformat": 4,
 "nbformat_minor": 5
}
